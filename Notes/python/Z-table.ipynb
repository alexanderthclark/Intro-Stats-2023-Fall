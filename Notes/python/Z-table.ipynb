{
 "cells": [
  {
   "cell_type": "code",
   "execution_count": null,
   "id": "d4fca33e",
   "metadata": {},
   "outputs": [],
   "source": [
    "import scipy.stats as stats\n",
    "import numpy as np\n",
    "import pandas as pd\n",
    "import math\n",
    "import os\n",
    "import matplotlib.pyplot as plt"
   ]
  },
  {
   "cell_type": "code",
   "execution_count": null,
   "id": "14f9e834",
   "metadata": {},
   "outputs": [],
   "source": [
    "table = pd.DataFrame()\n",
    "\n",
    "for point in np.arange(0, 3.10, step = .01):\n",
    "    \n",
    "    single_dec = math.trunc(point * 10) / 10\n",
    "    double = math.trunc(point * 100 + .0001) / 100  # +.0001 for float margin of error\n",
    "    assert double >= single_dec\n",
    "    hundreds = double - single_dec\n",
    "    cdf_val = stats.norm.cdf(double)\n",
    "    \n",
    "    is_even = (10*single_dec % 2) == 0\n",
    "    \n",
    "    helper = ''\n",
    "    if is_even:\n",
    "        helper = r'\\cellcolor{gray!20}'\n",
    "    \n",
    "    table.loc[str(single_dec), str('{:+.2f}'.format(hundreds))] = helper + '{:.4f}'.format(cdf_val)\n",
    "    \n",
    "assert table.isnull().sum().sum() == 0"
   ]
  },
  {
   "cell_type": "code",
   "execution_count": null,
   "id": "97c5f919",
   "metadata": {},
   "outputs": [],
   "source": [
    "#print(table.to_latex(escape = False))\n",
    "s = table.style.to_latex(hrules = True)"
   ]
  },
  {
   "cell_type": "code",
   "execution_count": null,
   "id": "0f5cd873",
   "metadata": {},
   "outputs": [],
   "source": [
    "wd = os.getcwd().rstrip(\"/python\")\n",
    "\n",
    "%cd ~"
   ]
  },
  {
   "cell_type": "code",
   "execution_count": null,
   "id": "f387632d",
   "metadata": {},
   "outputs": [],
   "source": [
    "# Add illustration\n",
    "\n",
    "x = np.linspace(-3,3, 100_000)\n",
    "fig, ax = plt.subplots()\n",
    "y = stats.norm.pdf(x)\n",
    "ax.plot(x, y)\n",
    "ax.set_aspect(6)\n",
    "\n",
    "for spine in 'left', 'right', 'top':\n",
    "    ax.spines[spine].set_visible(False)\n",
    "ax.set_yticks([])\n",
    "ylim = ax.get_ylim()\n",
    "xlim = ax.get_xlim()\n",
    "\n",
    "z_score = 1\n",
    "x_vals = x[x<z_score]\n",
    "y_vals = y[0:len(x_vals)]\n",
    "ax.fill_between(x_vals, y_vals, alpha = 0.15)\n",
    "\n",
    "x = np.linspace(-4,4, 200_000)\n",
    "y = stats.norm.pdf(x)\n",
    "ax.plot(x, y, color = 'C0')\n",
    "\n",
    "ax.set_ylim(0, ylim[1])\n",
    "ax.set_xlim(xlim)\n",
    "\n",
    "# annotate area\n",
    "\n",
    "ax.text(1, stats.norm.pdf(1)/1.2,\n",
    "        s = '{:.4f}  '.format(stats.norm.cdf(1)),\n",
    "        ha = 'right',\n",
    "        va = 'center')\n",
    "\n",
    "ax.set_xticks([1])\n",
    "ax.set_xticklabels(['$z=1$'])\n",
    "\n",
    "ax.plot([1,1], [0, stats.norm.pdf(1)], color = 'black', ls = 'dashed')\n",
    "#ax.plot([1], [stats.norm.pdf(1)], color = 'black', marker = '.')\n",
    "\n",
    "plt.savefig('ztable_plot.pdf')\n",
    "plt.show()"
   ]
  },
  {
   "cell_type": "code",
   "execution_count": null,
   "id": "a61e9397",
   "metadata": {},
   "outputs": [],
   "source": [
    "with open(\"ztable-input.tex\", 'w') as f:\n",
    "    f.write(s)\n",
    "    \n",
    "with open(\"ztable.tex\", 'w') as f:\n",
    "    doc = r\"\"\"\\documentclass{article}\n",
    "\\usepackage[utf8]{inputenc}\n",
    "\\usepackage[margin=1in]{geometry}\n",
    "\\usepackage{booktabs}\n",
    "\\usepackage{colortbl}\n",
    "\\usepackage{graphicx}\n",
    "\\usepackage{xcolor}\n",
    "\\begin{document}\n",
    "\\begin{center}\n",
    "\\section*{$z$-table}\n",
    "%\\input{ztable-input.tex}\n",
    "\"\"\" + s + r\"\"\"\n",
    "\\bigskip\n",
    "\\includegraphics[width=.6\\textwidth]{ztable_plot.pdf}\n",
    "\\end{center}\n",
    "\\end{document}\n",
    "\"\"\"\n",
    "    f.write(doc)\n",
    "\n",
    "os.system(\"pdflatex ztable.tex\")\n",
    "os.system(\"open ztable.tex\")\n",
    "os.system(f\"mv ztable.tex {wd}/ztable.tex\")\n",
    "os.system(f\"mv ztable.pdf {wd}/ztable.pdf\")\n",
    "os.system(f\"mv ztable-input.tex {wd}/tex/ztable-input.tex\")\n",
    "\n",
    "files = !ls\n",
    "for f in files:\n",
    "    if f.startswith(\"ztable.\"):\n",
    "        os.system(f\"rm {f}\")\n",
    "        #print(f)"
   ]
  },
  {
   "cell_type": "code",
   "execution_count": null,
   "id": "41d24cc5",
   "metadata": {},
   "outputs": [],
   "source": []
  }
 ],
 "metadata": {
  "kernelspec": {
   "display_name": "Python 3 (ipykernel)",
   "language": "python",
   "name": "python3"
  },
  "language_info": {
   "codemirror_mode": {
    "name": "ipython",
    "version": 3
   },
   "file_extension": ".py",
   "mimetype": "text/x-python",
   "name": "python",
   "nbconvert_exporter": "python",
   "pygments_lexer": "ipython3",
   "version": "3.9.13"
  }
 },
 "nbformat": 4,
 "nbformat_minor": 5
}
