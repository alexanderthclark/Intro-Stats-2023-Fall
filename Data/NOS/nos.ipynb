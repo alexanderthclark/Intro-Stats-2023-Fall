{
 "cells": [
  {
   "cell_type": "markdown",
   "id": "c77323f0",
   "metadata": {},
   "source": [
    "# National Organizations Survey (NOS), 1996-1997\n",
    "\n",
    "[Documentation and download](https://www.icpsr.umich.edu/web/ICPSR/studies/3190#)"
   ]
  },
  {
   "cell_type": "code",
   "execution_count": null,
   "id": "fe1ff8dd",
   "metadata": {},
   "outputs": [],
   "source": [
    "import pandas as pd\n",
    "import pyreadstat\n",
    "import numpy as np"
   ]
  },
  {
   "cell_type": "code",
   "execution_count": null,
   "id": "34bf659f",
   "metadata": {},
   "outputs": [],
   "source": [
    "%cd ~/Downloads/ICPSR_03190_SPSS/DS0001"
   ]
  },
  {
   "cell_type": "code",
   "execution_count": null,
   "id": "bdbaa70e",
   "metadata": {},
   "outputs": [],
   "source": [
    "df, meta = pyreadstat.read_por('03190-0001-Data.por')\n",
    "# df.to_csv(\"NOS-data.csv\")"
   ]
  },
  {
   "cell_type": "markdown",
   "id": "3544654a",
   "metadata": {},
   "source": [
    "# Relevant Papers\n",
    "\n",
    "[Herring 2009](https://doi.org/10.1177/000312240907400203) <br>\n",
    "[Herring 2017](https://doi.org/10.1177/0003122417716611) <br>\n",
    "[Stojmenovska et al 2017](https://doi.org/10.1177/0003122417714422)"
   ]
  },
  {
   "cell_type": "code",
   "execution_count": null,
   "id": "38066f0b",
   "metadata": {},
   "outputs": [],
   "source": [
    "# Columns\n",
    "parity_aid_r = 25 # p 214 Herring 2009\n",
    "parity_aid_g = 46\n",
    "\n",
    "revenue = 'O9'\n",
    "total_ft_employees = 'A7'\n",
    "total_no_ft_female_employees = 'A7A_N'\n",
    "total_pct_ft_female_employees = 'A7A_P'\n",
    "total_no_ft_white_employees = 'A7B_N'\n",
    "total_pct_ft_white_employees = 'A7B_P'"
   ]
  },
  {
   "cell_type": "code",
   "execution_count": null,
   "id": "84f836ee",
   "metadata": {},
   "outputs": [],
   "source": [
    "def replace_missing(columns, values, fill_value = np.nan, df = df):\n",
    "    '''Change columns in place'''\n",
    "    for col in columns:\n",
    "        for val in values:\n",
    "            df[col] = df[col].replace(val, fill_value)"
   ]
  },
  {
   "cell_type": "markdown",
   "id": "eb3b74d6",
   "metadata": {},
   "source": [
    "# Data Prep"
   ]
  },
  {
   "cell_type": "code",
   "execution_count": null,
   "id": "01a289ea",
   "metadata": {},
   "outputs": [],
   "source": [
    "values = [-999, 88888, 99999]\n",
    "columns = ['A7A_N', 'A7']\n",
    "replace_missing(columns = columns, values = values)"
   ]
  },
  {
   "cell_type": "code",
   "execution_count": null,
   "id": "f9b40558",
   "metadata": {},
   "outputs": [],
   "source": [
    "values = [-999]\n",
    "columns = ['A7A_P']\n",
    "replace_missing(columns = columns, values = values)"
   ]
  }
 ],
 "metadata": {
  "kernelspec": {
   "display_name": "Python 3 (ipykernel)",
   "language": "python",
   "name": "python3"
  },
  "language_info": {
   "codemirror_mode": {
    "name": "ipython",
    "version": 3
   },
   "file_extension": ".py",
   "mimetype": "text/x-python",
   "name": "python",
   "nbconvert_exporter": "python",
   "pygments_lexer": "ipython3",
   "version": "3.9.13"
  }
 },
 "nbformat": 4,
 "nbformat_minor": 5
}
