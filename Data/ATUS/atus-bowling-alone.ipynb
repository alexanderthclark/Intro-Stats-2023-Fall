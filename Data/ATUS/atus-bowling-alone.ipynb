{
 "cells": [
  {
   "cell_type": "markdown",
   "id": "5f8970e4",
   "metadata": {},
   "source": [
    "# American Time Use Survey\n",
    "\n",
    "[Data and documentation](https://www.bls.gov/tus/data.htm)\n",
    "\n",
    "## Bowling Alone\n",
    "\n",
    "[Wikipedia](https://en.wikipedia.org/wiki/Bowling_Alone)"
   ]
  },
  {
   "cell_type": "code",
   "execution_count": null,
   "id": "09d05a4d",
   "metadata": {},
   "outputs": [],
   "source": [
    "import pandas as pd\n",
    "import numpy as np\n",
    "import requests\n",
    "import io\n",
    "import matplotlib.pyplot as plt\n",
    "import scipy.stats as stats\n",
    "from dateutil.parser import parse\n",
    "import datetime as dt\n",
    "from zipfile import ZipFile\n",
    "import os"
   ]
  },
  {
   "cell_type": "code",
   "execution_count": null,
   "id": "6a2af5ef",
   "metadata": {},
   "outputs": [],
   "source": [
    "files = ['who', 'act']\n",
    "\n",
    "ATUS = dict()\n",
    "\n",
    "# multiyear data\n",
    "# Zip files have URLs like https://www.bls.gov/tus/datafiles/atusrost-0322.zip\n",
    "# Above pattern can change year to year. Update accordingly.\n",
    "\n",
    "base_url = 'https://www.bls.gov/tus/datafiles/atus'\n",
    "ending = f'-03{(dt.date.today() - dt.timedelta(days = 365)).strftime(\"%y\")}.zip'\n",
    "\n",
    "# Download data, read to pandas, and delete local files\n",
    "for file in files:\n",
    "    url = f'{base_url}{file}{ending}'\n",
    "    r = requests.get(url)\n",
    "    \n",
    "    # Try to get data directly from web \n",
    "    try:\n",
    "        # this doesn't work Aug '23 because BLS blocks bots\n",
    "        z = ZipFile(io.BytesIO(r.content))\n",
    "        z.extractall()\n",
    "        ATUS[file] = pd.read_csv(z.open(ending))\n",
    "    \n",
    "    # Download files locally then delete\n",
    "    except:\n",
    "        print(url, 'click to download')\n",
    "        input('Confirm Download')\n",
    "        \n",
    "        os.system(f'cp ~/Downloads/atus{file}{ending} {os.getcwd()}')\n",
    "        with ZipFile(f'atus{file}{ending}', 'r') as z:\n",
    "            z.extractall()\n",
    "            dat = ending.replace(\".zip\",'.dat').replace(\"-\",'_')\n",
    "            ATUS[file] = pd.read_csv(z.open(f'atus{file}{dat}'))\n",
    "            \n",
    "            # delete files\n",
    "            files = !ls\n",
    "            for f in files:\n",
    "                if f.startswith(f'atus{file}') or f.endswith(\"_info.txt\"):\n",
    "                    os.system(f\"rm {f}\")"
   ]
  },
  {
   "cell_type": "code",
   "execution_count": null,
   "id": "52b4f0e3",
   "metadata": {},
   "outputs": [],
   "source": [
    "activity = ATUS['act'] # Dataframe for activities\n",
    "\n",
    "# Get activity columns\n",
    "bowling_code = 130107\n",
    "# capture volunteering, helping nonhh members, govt civic obligations, religious activities\n",
    "prosocial_cols = [x for x in activity.TRCODEP.unique() if str(x)[0:2] in ['15', '40', '100', '14']]\n",
    "\n",
    "is_bowling = activity.TRCODEP == bowling_code\n",
    "bowlers = activity[is_bowling].TUCASEID.unique()\n",
    "\n",
    "# Reduce to bowlers\n",
    "activity = activity[activity.TUCASEID.isin(bowlers)]\n",
    "\n",
    "# Find who was alone\n",
    "helper = ATUS['who']\n",
    "helper['is_alone'] = helper.TUWHO_CODE.isin([18,19])\n",
    "helper.sort_values(['TUCASEID','TUACTIVITY_N','is_alone'], \n",
    "                   inplace = True)\n",
    "helper = helper[['TUCASEID','TUACTIVITY_N','is_alone']].\\\n",
    "                drop_duplicates(['TUCASEID','TUACTIVITY_N'],\n",
    "                                keep = 'last')\n",
    "data = helper.merge(activity, \n",
    "                    on = ['TUCASEID','TUACTIVITY_N'],\n",
    "                    validate = 'one_to_one')\n",
    "\n",
    "# mark pro-social\n",
    "data['is_prosocial'] = data.TRCODEP.isin(prosocial_cols)\n",
    "data['pro_social_minutes'] = data.TUACTDUR24 * 1 * data.is_prosocial\n",
    "#activity[activity.is_prosocial == True].groupby(\"TUCASEID\").TUACTDUR24.sum()"
   ]
  },
  {
   "cell_type": "code",
   "execution_count": null,
   "id": "aa6ae047",
   "metadata": {},
   "outputs": [],
   "source": [
    "# people who bowled alone\n",
    "alone = data.is_alone == True\n",
    "is_bowling = data.TRCODEP == bowling_code\n",
    "\n",
    "all_bowlers = set(data[is_bowling].TUCASEID)\n",
    "solo_bowlers = set(data[is_bowling & alone].TUCASEID)\n",
    "social_bowlers = all_bowlers - solo_bowlers"
   ]
  },
  {
   "cell_type": "code",
   "execution_count": null,
   "id": "8f1db518",
   "metadata": {},
   "outputs": [],
   "source": [
    "data['is_solo_bowler'] = data.TUCASEID.isin(solo_bowlers)\n",
    "data.groupby([\"is_solo_bowler\"]).TUCASEID.nunique()"
   ]
  },
  {
   "cell_type": "code",
   "execution_count": null,
   "id": "7869f7f4",
   "metadata": {},
   "outputs": [],
   "source": [
    "x = data[data.is_solo_bowler == True].groupby(['TUCASEID']).pro_social_minutes.sum() \n",
    "y = data[data.is_solo_bowler == False].groupby(['TUCASEID']).pro_social_minutes.sum() #).hist(bins = 20)\n",
    "#x2 = np.log(x+1)\n",
    "\n",
    "fig, axs = plt.subplots(1, 2, sharey = False, figsize = (12,4))\n",
    "x.hist(bins = 10, ax = axs[0], fc = 'gray', ec = 'black') #, normalize = True)\n",
    "axs[0].set_title(\"Solo Bowlers\")\n",
    "axs[0].set_ylabel(\"Frequency\")\n",
    "axs[0].set_xlabel(\"Pro-social Minutes\")\n",
    "\n",
    "y.hist(bins = 10, ax = axs[1], ec = 'black') #, normalize = True)\n",
    "axs[1].set_title(\"Social Bowlers\")\n",
    "axs[1].set_ylabel(\"Frequency\")\n",
    "axs[1].set_xlabel(\"Pro-social Minutes\")\n",
    "\n",
    "for ax in axs:\n",
    "    ax.yaxis.grid(False)\n",
    "    ax.xaxis.grid(False)\n",
    "\n",
    "plt.tight_layout()\n",
    "#plt.savefig(\"prosocialbowlerhistograms.pdf\")"
   ]
  },
  {
   "cell_type": "code",
   "execution_count": null,
   "id": "b37ce713",
   "metadata": {},
   "outputs": [],
   "source": [
    "# think about skewed data \n",
    "stats.ttest_ind(x, y, equal_var = False)"
   ]
  },
  {
   "cell_type": "code",
   "execution_count": null,
   "id": "90ec1c77",
   "metadata": {},
   "outputs": [],
   "source": [
    "# what does the data look like\n",
    "table = pd.DataFrame(index = ['Alice', 'Bob', 'Dale Jr.'])\n",
    "table['Type of Bowler'] = ['Solo', 'Social', 'Social']\n",
    "table['Pro-Social Activity'] = [0,10, 100]\n",
    "print(table.style.to_latex(hrules = True))"
   ]
  }
 ],
 "metadata": {
  "kernelspec": {
   "display_name": "Python 3 (ipykernel)",
   "language": "python",
   "name": "python3"
  },
  "language_info": {
   "codemirror_mode": {
    "name": "ipython",
    "version": 3
   },
   "file_extension": ".py",
   "mimetype": "text/x-python",
   "name": "python",
   "nbconvert_exporter": "python",
   "pygments_lexer": "ipython3",
   "version": "3.9.13"
  }
 },
 "nbformat": 4,
 "nbformat_minor": 5
}
