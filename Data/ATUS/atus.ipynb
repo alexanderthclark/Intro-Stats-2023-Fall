{
 "cells": [
  {
   "cell_type": "markdown",
   "id": "5f8970e4",
   "metadata": {},
   "source": [
    "# American Time Use Survey\n",
    "\n",
    "[Data and documentation](https://www.bls.gov/tus/data.htm)"
   ]
  },
  {
   "cell_type": "code",
   "execution_count": null,
   "id": "09d05a4d",
   "metadata": {},
   "outputs": [],
   "source": [
    "import pandas as pd\n",
    "import numpy as np\n",
    "import requests\n",
    "import io\n",
    "import matplotlib.pyplot as plt\n",
    "from dateutil.parser import parse\n",
    "import datetime as dt\n",
    "from zipfile import ZipFile\n",
    "import os"
   ]
  },
  {
   "cell_type": "code",
   "execution_count": null,
   "id": "6a2af5ef",
   "metadata": {},
   "outputs": [],
   "source": [
    "files = ['sum','resp'] # [\"resp\", \"rost\", \"sum\", \"act\", \"cps\", \"who\"]\n",
    "\n",
    "ATUS = dict()\n",
    "\n",
    "# multiyear data\n",
    "# Zip files have URLs like https://www.bls.gov/tus/datafiles/atusrost-0322.zip\n",
    "# Above pattern can change year to year. Update accordingly.\n",
    "\n",
    "base_url = 'https://www.bls.gov/tus/datafiles/atus'\n",
    "ending = f'-03{(dt.date.today() - dt.timedelta(days = 365)).strftime(\"%y\")}.zip'\n",
    "\n",
    "\n",
    "# Download data, read to pandas, and delete local files\n",
    "for file in files:\n",
    "    url = f'{base_url}{file}{ending}'\n",
    "    r = requests.get(url)\n",
    "    \n",
    "    # Try to get data directly from web \n",
    "    try:\n",
    "        # this doesn't work Aug '23 because BLS blocks bots\n",
    "        z = ZipFile(io.BytesIO(r.content))\n",
    "        z.extractall()\n",
    "        ATUS[file] = pd.read_csv(z.open(ending))\n",
    "    \n",
    "    # Download files locally then delete\n",
    "    except:\n",
    "        print(url, 'click to download')\n",
    "        input('Confirm Download')\n",
    "        \n",
    "        os.system(f'cp ~/Downloads/atus{file}{ending} {os.getcwd()}')\n",
    "        with ZipFile(f'atus{file}{ending}', 'r') as z:\n",
    "            z.extractall()\n",
    "            dat = ending.replace(\".zip\",'.dat').replace(\"-\",'_')\n",
    "            ATUS[file] = pd.read_csv(z.open(f'atus{file}{dat}'))\n",
    "            \n",
    "            # delete files\n",
    "            files = !ls\n",
    "            for f in files:\n",
    "                if f.startswith(f'atus{file}') or f.endswith(\"_info.txt\"):\n",
    "                    os.system(f\"rm {f}\")"
   ]
  },
  {
   "cell_type": "code",
   "execution_count": null,
   "id": "ef947f4e",
   "metadata": {},
   "outputs": [],
   "source": [
    "ATUS[file].info()"
   ]
  }
 ],
 "metadata": {
  "kernelspec": {
   "display_name": "Python 3 (ipykernel)",
   "language": "python",
   "name": "python3"
  },
  "language_info": {
   "codemirror_mode": {
    "name": "ipython",
    "version": 3
   },
   "file_extension": ".py",
   "mimetype": "text/x-python",
   "name": "python",
   "nbconvert_exporter": "python",
   "pygments_lexer": "ipython3",
   "version": "3.9.13"
  }
 },
 "nbformat": 4,
 "nbformat_minor": 5
}
