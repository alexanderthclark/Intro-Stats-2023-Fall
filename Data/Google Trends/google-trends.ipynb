{
 "cells": [
  {
   "cell_type": "code",
   "execution_count": null,
   "id": "48ddfdad",
   "metadata": {},
   "outputs": [],
   "source": [
    "import pandas as pd\n",
    "import matplotlib.pyplot as plt\n",
    "import datetime as dt\n",
    "\n",
    "import pytrends\n",
    "from pytrends.request import TrendReq\n",
    "#https://github.com/GeneralMills/pytrends/blob/master/examples/example.py"
   ]
  },
  {
   "cell_type": "code",
   "execution_count": null,
   "id": "e6a29c29",
   "metadata": {},
   "outputs": [],
   "source": [
    "pytrend = TrendReq()"
   ]
  },
  {
   "cell_type": "code",
   "execution_count": null,
   "id": "7ea312b0",
   "metadata": {},
   "outputs": [],
   "source": [
    "trend_df = pytrend.trending_searches(pn='united_states')"
   ]
  },
  {
   "cell_type": "code",
   "execution_count": null,
   "id": "b3dc2389",
   "metadata": {},
   "outputs": [],
   "source": [
    "pytrend.build_payload(kw_list=['Aristotle', 'Plato'], timeframe='today 5-y')\n",
    "\n",
    "df = pytrend.interest_over_time()\n",
    "df.plot(marker = '.')\n",
    "plt.title(\"Search Trends\")\n",
    "plt.ylabel(\"Search Popularity\")\n",
    "\n",
    "for year in range(2018, dt.datetime.today().year + 1):\n",
    "    \n",
    "    # mark summer months\n",
    "    plt.axvspan(dt.datetime(year,5,15), dt.datetime(year, 8, 15), color = 'yellow', alpha = .2)\n",
    "\n",
    "    # mark\n",
    "    # find thanksgiving\n",
    "    nov = dt.datetime(year, 11, 1)\n",
    "    thursday_count = 0\n",
    "    while thursday_count < 4:\n",
    "        if nov.weekday() == 3:\n",
    "            thursday_count += 1\n",
    "        nov += dt.timedelta(days = 1)\n",
    "    thanksgiving_week = nov - dt.timedelta(days = 2), nov + dt.timedelta(days = 2)\n",
    "    \n",
    "    plt.axvspan(*thanksgiving_week, color = 'orange', alpha = 0.2)\n",
    "\n",
    "plt.show()"
   ]
  }
 ],
 "metadata": {
  "kernelspec": {
   "display_name": "Python 3 (ipykernel)",
   "language": "python",
   "name": "python3"
  },
  "language_info": {
   "codemirror_mode": {
    "name": "ipython",
    "version": 3
   },
   "file_extension": ".py",
   "mimetype": "text/x-python",
   "name": "python",
   "nbconvert_exporter": "python",
   "pygments_lexer": "ipython3",
   "version": "3.9.13"
  }
 },
 "nbformat": 4,
 "nbformat_minor": 5
}
