{
 "cells": [
  {
   "cell_type": "markdown",
   "id": "46f6f6ed",
   "metadata": {},
   "source": [
    "# Peloton API\n",
    "\n",
    "See also https://github.com/justmedude/pylotoncycle/tree/main/pylotoncycle\n",
    "\n",
    "This requires a Peloton login and you will then be limited to public profiles."
   ]
  },
  {
   "cell_type": "code",
   "execution_count": 1,
   "id": "30e42882",
   "metadata": {},
   "outputs": [
    {
     "name": "stdout",
     "output_type": "stream",
     "text": [
      "Intel MKL WARNING: Support of Intel(R) Streaming SIMD Extensions 4.2 (Intel(R) SSE4.2) enabled only processors has been deprecated. Intel oneAPI Math Kernel Library 2025.0 will require Intel(R) Advanced Vector Extensions (Intel(R) AVX) instructions.\n",
      "Intel MKL WARNING: Support of Intel(R) Streaming SIMD Extensions 4.2 (Intel(R) SSE4.2) enabled only processors has been deprecated. Intel oneAPI Math Kernel Library 2025.0 will require Intel(R) Advanced Vector Extensions (Intel(R) AVX) instructions.\n"
     ]
    },
    {
     "data": {
      "text/plain": [
       "True"
      ]
     },
     "execution_count": 1,
     "metadata": {},
     "output_type": "execute_result"
    }
   ],
   "source": [
    "import pandas as pd\n",
    "import requests\n",
    "import os\n",
    "import matplotlib.pyplot as plt\n",
    "\n",
    "from dotenv import load_dotenv\n",
    "load_dotenv()"
   ]
  },
  {
   "cell_type": "code",
   "execution_count": 2,
   "id": "f79fe425",
   "metadata": {},
   "outputs": [],
   "source": [
    "# Log in to obtain an access token\n",
    "login_url = 'https://api.onepeloton.com/auth/login'\n",
    "login_data = {'username_or_email': os.environ.get(\"ptonUsername\"),\n",
    "              'password': os.environ.get(\"ptonPw\")}\n",
    "#response = requests.post(login_url, json=login_data)\n",
    "#login = response.json()\n",
    "#user_id = login['user_id']"
   ]
  },
  {
   "cell_type": "code",
   "execution_count": 3,
   "id": "9af81417",
   "metadata": {},
   "outputs": [],
   "source": [
    "s = requests.Session()\n",
    "login_response = s.post(login_url, json=login_data)\n",
    "\n",
    "# workout_id = '555'\n",
    "# Fetch workout details using the access token and workout ID\n",
    "# workout_url = f'https://api.onepeloton.com/api/workout/{workout_id}/performance_graph?every_n=5'\n",
    "# response = s.get(workout_url) \n",
    "# workout_data = response.json()\n",
    "\n",
    "user_id = login_response.json()['user_id']\n",
    "followers = s.get(f'https://api.onepeloton.com/api/user/{user_id}/followers')\n",
    "f = followers.json()"
   ]
  },
  {
   "cell_type": "code",
   "execution_count": 4,
   "id": "30b38f88",
   "metadata": {},
   "outputs": [],
   "source": [
    "df = pd.DataFrame()\n",
    "\n",
    "for i in f['data']:\n",
    "    idx = len(df)\n",
    "    df.loc[idx, 'total_workouts'] = i['total_workouts']\n",
    "    df.loc[idx, 'total_followers'] = i['total_followers']"
   ]
  },
  {
   "cell_type": "code",
   "execution_count": 5,
   "id": "f49abec2",
   "metadata": {},
   "outputs": [
    {
     "data": {
      "image/png": "[encoded data removed]",
      "text/plain": [
       "<Figure size 640x480 with 1 Axes>"
      ]
     },
     "metadata": {},
     "output_type": "display_data"
    }
   ],
   "source": [
    "df.total_workouts.hist(bins = 14, ec = 'black')\n",
    "plt.axis('off')\n",
    "plt.show()"
   ]
  },
  {
   "cell_type": "code",
   "execution_count": 6,
   "id": "62822567",
   "metadata": {},
   "outputs": [
    {
     "data": {
      "image/png": "[encoded data removed]",
      "text/plain": [
       "<Figure size 640x480 with 1 Axes>"
      ]
     },
     "metadata": {},
     "output_type": "display_data"
    }
   ],
   "source": [
    "df.total_followers.hist(bins = 14, ec = 'black')\n",
    "plt.axis('off')\n",
    "plt.show()"
   ]
  }
 ],
 "metadata": {
  "kernelspec": {
   "display_name": "Python 3 (ipykernel)",
   "language": "python",
   "name": "python3"
  },
  "language_info": {
   "codemirror_mode": {
    "name": "ipython",
    "version": 3
   },
   "file_extension": ".py",
   "mimetype": "text/x-python",
   "name": "python",
   "nbconvert_exporter": "python",
   "pygments_lexer": "ipython3",
   "version": "3.9.13"
  }
 },
 "nbformat": 4,
 "nbformat_minor": 5
}
