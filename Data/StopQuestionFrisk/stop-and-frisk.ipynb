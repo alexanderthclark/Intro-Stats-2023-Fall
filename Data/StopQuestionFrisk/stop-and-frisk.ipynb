{
 "cells": [
  {
   "cell_type": "markdown",
   "id": "8e173ad4",
   "metadata": {},
   "source": [
    "# Stop, Question, and Frisk Data\n",
    "\n",
    "[Source](https://www.nyc.gov/site/nypd/stats/reports-analysis/stopfrisk.page)"
   ]
  },
  {
   "cell_type": "code",
   "execution_count": null,
   "id": "24159085",
   "metadata": {},
   "outputs": [],
   "source": [
    "import pandas as pd\n",
    "import datetime as dt\n",
    "from zipfile import ZipFile\n",
    "import requests\n",
    "import io"
   ]
  },
  {
   "cell_type": "code",
   "execution_count": null,
   "id": "2402733e",
   "metadata": {},
   "outputs": [],
   "source": [
    "base = 'https://www.nyc.gov/assets/nypd/downloads/excel/analysis_and_planning/stop-question-frisk/sqf-2022.xlsx'\n",
    "urls = [base.replace(\"2022\", str(year)) for year in range(2017, dt.date.today().year)]"
   ]
  },
  {
   "cell_type": "code",
   "execution_count": null,
   "id": "4682b9b9",
   "metadata": {},
   "outputs": [],
   "source": [
    "for url in urls:\n",
    "\n",
    "    file = url.split(\"/\")[-1]\n",
    "    tmp = pd.read_excel(url)\n",
    "    break"
   ]
  },
  {
   "cell_type": "code",
   "execution_count": null,
   "id": "7a2737fb",
   "metadata": {},
   "outputs": [],
   "source": [
    "base = 'https://www.nyc.gov/assets/nypd/downloads/zip/analysis_and_planning/stop-question-frisk/sqf-2014-csv.zip'\n",
    "\n",
    "years = range(2003, 2018)\n",
    "zip_urls = [base.replace(\"2014\", str(year)) for year in years]\n",
    "\n",
    "for url, year in zip(zip_urls, years):\n",
    "\n",
    "    r = requests.get(url)\n",
    "        \n",
    "    # Try to get data directly from web \n",
    "    try:\n",
    "        z = ZipFile(io.BytesIO(r.content))\n",
    "        z.extractall()\n",
    "        file = f'{year}.csv'\n",
    "        tmp = pd.read_csv(z.open(file), encoding = \"cp1252\", low_memory = False)\n",
    "        z.close()\n",
    "        \n",
    "    except:\n",
    "        print(url, 'click to download')\n",
    "    break"
   ]
  }
 ],
 "metadata": {
  "kernelspec": {
   "display_name": "Python 3 (ipykernel)",
   "language": "python",
   "name": "python3"
  },
  "language_info": {
   "codemirror_mode": {
    "name": "ipython",
    "version": 3
   },
   "file_extension": ".py",
   "mimetype": "text/x-python",
   "name": "python",
   "nbconvert_exporter": "python",
   "pygments_lexer": "ipython3",
   "version": "3.9.13"
  }
 },
 "nbformat": 4,
 "nbformat_minor": 5
}
