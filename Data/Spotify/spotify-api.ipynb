{
 "cells": [
  {
   "cell_type": "code",
   "execution_count": null,
   "id": "864b1992",
   "metadata": {},
   "outputs": [],
   "source": [
    "import pandas as pd\n",
    "import math\n",
    "import os\n",
    "import pyperclip\n",
    "import spotipy\n",
    "import matplotlib.colors as mcolors\n",
    "import openpyxl\n",
    "\n",
    "from IPython.display import clear_output\n",
    "from spotipy.oauth2 import SpotifyOAuth\n",
    "from dotenv import load_dotenv\n",
    "\n",
    "pd.options.display.float_format = '{:,.0f}'.format\n",
    "\n",
    "load_dotenv()"
   ]
  },
  {
   "cell_type": "code",
   "execution_count": null,
   "id": "efc01765",
   "metadata": {},
   "outputs": [],
   "source": [
    "scope = \"user-library-read\"\n",
    "\n",
    "sp = spotipy.Spotify(auth_manager = SpotifyOAuth(scope = scope,\n",
    "                                                 client_id = os.environ.get(\"spotifyClientId\"),\n",
    "                                                 client_secret = os.environ.get(\"spotifyClientSecret\"),\n",
    "                                                 redirect_uri = 'https://example.com/callback'))"
   ]
  },
  {
   "cell_type": "code",
   "execution_count": null,
   "id": "fc9bf9bb",
   "metadata": {
    "code_folding": [],
    "scrolled": true
   },
   "outputs": [],
   "source": [
    "# define artists\n",
    "\n",
    "chumbawamba = sp.artist('0TcYeHEK9sBtv7xPbKhzHz')\n",
    "silento = sp.artist('7juKTDFlPesGeWQ1GmjmOv')\n",
    "beatles = sp.artist(\"3WrFJ7ztbogyGnTHbHJFl2\")\n",
    "taylor_swift = sp.artist('06HL4z0CvFAxyc27GXpf02')\n",
    "john_cage = sp.artist('1Z3fF5lZdCM0ZHugkGoH8s')\n",
    "elvis = sp.artist('43ZHCT0cAZBISjO8DG9PnE')\n",
    "garth_brooks = sp.artist('4BclNkZtAUq1YrYNzye3N7')\n",
    "ice_cube = sp.artist('3Mcii5XWf6E0lrY3Uky4cA')\n",
    "beethoven = sp.artist('2wOqMjp9TyABvtHdOSOTUS')\n",
    "harry_styles = sp.artist('6KImCVD70vtIoJWnq6nGn3')\n",
    "lou_bega = sp.artist('46lnlnlU0dXTDpoAUmH6Qx')\n",
    "\n",
    "clear_output()"
   ]
  },
  {
   "cell_type": "code",
   "execution_count": null,
   "id": "34545f22",
   "metadata": {},
   "outputs": [],
   "source": [
    "artists = [chumbawamba,\n",
    "           silento,\n",
    "           beatles,\n",
    "           taylor_swift,\n",
    "           john_cage,\n",
    "           elvis,\n",
    "           garth_brooks,\n",
    "           ice_cube,\n",
    "           beethoven,\n",
    "           harry_styles,\n",
    "           lou_bega]"
   ]
  },
  {
   "cell_type": "code",
   "execution_count": null,
   "id": "87f834f1",
   "metadata": {},
   "outputs": [],
   "source": [
    "def truncate(s: str, char_length: int = 20) -> str:\n",
    "    '''\n",
    "    Truncates a string to char_length and adds `...` to indicate truncation.\n",
    "    Used to make tables more narrow.\n",
    "    '''\n",
    "    return s[0:char_length] + ('...' if len(s) > char_length else '')\n",
    "\n",
    "def make_top_tracks_df(artist: dict) -> pd.DataFrame:\n",
    "    '''\n",
    "    Return DataFrame with top tracks information for an artist.\n",
    "    '''\n",
    "    artist_name = artist['name'].replace(\"Harry\", \"Harold\")\n",
    "    uri = artist['uri']\n",
    "\n",
    "    tmp = pd.DataFrame()\n",
    "    top_tracks = sp.artist_top_tracks(uri)['tracks']\n",
    "    for track in top_tracks:\n",
    "        idx = len(tmp)\n",
    "        tmp.loc[idx, 'artist'] = artist_name\n",
    "        tmp.loc[idx, 'track'] = truncate(track['name'])\n",
    "        tmp.loc[idx, 'song-popularity'] = track['popularity']\n",
    "        tmp.loc[idx, 'album'] = truncate(track['album']['name'], 15)\n",
    "        seconds = track['duration_ms'] / 1000 \n",
    "        minutes = math.floor(seconds / 60)\n",
    "        seconds_remainder = seconds % 60\n",
    "        tmp.loc[idx, 'duration'] = f'{minutes}:{seconds_remainder:0>2.0f}'\n",
    "    \n",
    "    tmp['artist-popularity'] = artist['popularity']\n",
    "    tmp['artist-url'] = artist['external_urls']['spotify']\n",
    "        \n",
    "    return tmp"
   ]
  },
  {
   "cell_type": "code",
   "execution_count": null,
   "id": "c6c264ec",
   "metadata": {},
   "outputs": [],
   "source": [
    "# make big dataframe\n",
    "combined = pd.DataFrame()\n",
    "combined_tex = pd.DataFrame() \n",
    "for key, artist in enumerate(artists):\n",
    "    \n",
    "    tmp = make_top_tracks_df(artist)\n",
    "    \n",
    "    # drop data for a few artists\n",
    "    if artist['name'] not in ['John Cage', 'Garth Brooks', 'Taylor Swift', 'Ice Cube']:\n",
    "        tmp = tmp.head(4)\n",
    "    \n",
    "    combined = pd.concat([combined, tmp])\n",
    "\n",
    "    tmp['artist-url'] =  r'\\link{' + tmp['artist-url'] + \"}{link}\"\n",
    "    tmp['song-popularity'] = tmp['song-popularity'].astype(int)\n",
    "    tmp = tmp.astype(str)\n",
    "    if key % 2 == 0:\n",
    "        tmp = r'\\cellcolor{gray!7!white}' + tmp.astype(str)\n",
    "\n",
    "    combined_tex = pd.concat([combined_tex, tmp])\n",
    "\n",
    "# Catch special characters\n",
    "combined_tex = combined_tex.replace(\"&\", r\"\\&\", regex = True)\n",
    "\n",
    "# don't truncate \n",
    "with pd.option_context(\"max_colwidth\", 10000):\n",
    "    s = combined_tex.to_latex(escape = False,\n",
    "                              index = None)"
   ]
  },
  {
   "cell_type": "code",
   "execution_count": null,
   "id": "7a6530a5",
   "metadata": {},
   "outputs": [],
   "source": [
    "pyperclip.copy(s)"
   ]
  },
  {
   "cell_type": "code",
   "execution_count": null,
   "id": "647d149e",
   "metadata": {},
   "outputs": [],
   "source": [
    "with open(\"../../tex/spotify-table.tex\", 'w') as f:\n",
    "    f.write(s)"
   ]
  },
  {
   "cell_type": "code",
   "execution_count": null,
   "id": "7c1d8233",
   "metadata": {},
   "outputs": [],
   "source": [
    "combined.to_csv(\"spotify-data.csv\")"
   ]
  }
 ],
 "metadata": {
  "kernelspec": {
   "display_name": "Python 3 (ipykernel)",
   "language": "python",
   "name": "python3"
  },
  "language_info": {
   "codemirror_mode": {
    "name": "ipython",
    "version": 3
   },
   "file_extension": ".py",
   "mimetype": "text/x-python",
   "name": "python",
   "nbconvert_exporter": "python",
   "pygments_lexer": "ipython3",
   "version": "3.9.13"
  }
 },
 "nbformat": 4,
 "nbformat_minor": 5
}
